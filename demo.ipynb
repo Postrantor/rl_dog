{
 "cells": [
  {
   "cell_type": "code",
   "execution_count": 5,
   "metadata": {},
   "outputs": [
    {
     "name": "stdout",
     "output_type": "stream",
     "text": [
      "True\n",
      "False\n",
      "False\n"
     ]
    }
   ],
   "source": [
    "class classname(object):\n",
    "    already = True\n",
    "    def __init__(self) -> None:\n",
    "        pass\n",
    "    def func1(self):\n",
    "        print(self.already)\n",
    "        self.already = False\n",
    "        print(self.already)\n",
    "\n",
    "demo = classname()\n",
    "demo.func1()\n",
    "print(demo.already)"
   ]
  }
 ],
 "metadata": {
  "kernelspec": {
   "display_name": "pytorch",
   "language": "python",
   "name": "python3"
  },
  "language_info": {
   "codemirror_mode": {
    "name": "ipython",
    "version": 3
   },
   "file_extension": ".py",
   "mimetype": "text/x-python",
   "name": "python",
   "nbconvert_exporter": "python",
   "pygments_lexer": "ipython3",
   "version": "3.9.18"
  }
 },
 "nbformat": 4,
 "nbformat_minor": 2
}
